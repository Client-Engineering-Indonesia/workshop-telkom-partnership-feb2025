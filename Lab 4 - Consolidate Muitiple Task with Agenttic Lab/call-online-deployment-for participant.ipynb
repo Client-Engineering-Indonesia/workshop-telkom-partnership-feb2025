{
 "cells": [
  {
   "cell_type": "markdown",
   "metadata": {
    "collapsed": true,
    "id": "7adcbc9b-5f81-45f3-8fe6-d900b2138437",
    "jupyter": {
     "outputs_hidden": true
    }
   },
   "source": [
    "## Create custom tool"
   ]
  },
  {
   "cell_type": "code",
   "execution_count": 1,
   "metadata": {
    "id": "6b2b1bae-8142-4a1b-9a86-b280ec9389c8"
   },
   "outputs": [],
   "source": [
    "def call_online_deployment(input_prompt):\n",
    "    import requests \n",
    "    \n",
    "    watsonx_api_key=''\n",
    "    handle_query_url=''\n",
    "\n",
    "    token_response = requests.post('https://iam.cloud.ibm.com/identity/token', data={'apikey': watsonx_api_key, 'grant_type': 'urn:ibm:params:oauth:grant-type:apikey'})\n",
    "    mltoken = token_response.json()[\"access_token\"]\n",
    "\n",
    "    payload_scoring = {\n",
    "        'input_data': [{\n",
    "            'fields': ['query'],\n",
    "            'values': [[input_prompt]]\n",
    "    }]}\n",
    "\n",
    "    response_scoring = requests.post(handle_query_url, json=payload_scoring, headers={'Authorization': 'Bearer ' + mltoken})\n",
    "\n",
    "    response_json = response_scoring.json()\n",
    "\n",
    "    print(response_json)\n",
    "\n",
    "    return response_json['predictions'][0]['values'][0][0]"
   ]
  },
  {
   "cell_type": "code",
   "execution_count": 2,
   "metadata": {
    "id": "e36d9bdf-001f-44ff-90ee-d308b7c0d5d7"
   },
   "outputs": [],
   "source": [
    "input_prompt = \"siapa customer dengan penjualan terbanyak\""
   ]
  },
  {
   "cell_type": "code",
   "execution_count": null,
   "metadata": {
    "id": "3e1c7272-8fd8-403a-ad80-9a3cc399d5fb"
   },
   "outputs": [],
   "source": [
    "call_online_deployment(input_prompt)"
   ]
  },
  {
   "cell_type": "code",
   "execution_count": null,
   "metadata": {
    "id": "8cae5b6f-1792-4ffe-a774-e02fb7fd0306"
   },
   "outputs": [],
   "source": []
  }
 ],
 "metadata": {
  "kernelspec": {
   "display_name": "anydemo",
   "language": "python",
   "name": "python3"
  },
  "language_info": {
   "codemirror_mode": {
    "name": "ipython",
    "version": 3
   },
   "file_extension": ".py",
   "mimetype": "text/x-python",
   "name": "python",
   "nbconvert_exporter": "python",
   "pygments_lexer": "ipython3",
   "version": "3.11.11"
  }
 },
 "nbformat": 4,
 "nbformat_minor": 4
}
